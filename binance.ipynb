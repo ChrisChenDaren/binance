{
 "cells": [
  {
   "cell_type": "markdown",
   "id": "9dc36abc-adb1-4be7-9dec-ea3d4275dd56",
   "metadata": {
    "panel-layout": {
     "height": 77.875,
     "visible": true,
     "width": 100
    }
   },
   "source": [
    "## Week 1\n",
    "### Data Capture from Binance\n"
   ]
  },
  {
   "cell_type": "code",
   "execution_count": 1,
   "id": "3fd760c1-91bc-4dfb-aa6d-f51e995abeb0",
   "metadata": {},
   "outputs": [
    {
     "name": "stdout",
     "output_type": "stream",
     "text": [
      "Collecting websockets\n",
      "  Downloading websockets-15.0.1-cp313-cp313-win_amd64.whl.metadata (7.0 kB)\n",
      "Requirement already satisfied: pandas in c:\\anaconda\\lib\\site-packages (2.2.3)\n",
      "Requirement already satisfied: numpy>=1.26.0 in c:\\anaconda\\lib\\site-packages (from pandas) (2.1.3)\n",
      "Requirement already satisfied: python-dateutil>=2.8.2 in c:\\anaconda\\lib\\site-packages (from pandas) (2.9.0.post0)\n",
      "Requirement already satisfied: pytz>=2020.1 in c:\\anaconda\\lib\\site-packages (from pandas) (2024.1)\n",
      "Requirement already satisfied: tzdata>=2022.7 in c:\\anaconda\\lib\\site-packages (from pandas) (2025.2)\n",
      "Requirement already satisfied: six>=1.5 in c:\\anaconda\\lib\\site-packages (from python-dateutil>=2.8.2->pandas) (1.17.0)\n",
      "Downloading websockets-15.0.1-cp313-cp313-win_amd64.whl (176 kB)\n",
      "Installing collected packages: websockets\n",
      "Successfully installed websockets-15.0.1\n",
      "Note: you may need to restart the kernel to use updated packages.\n"
     ]
    }
   ],
   "source": [
    "pip install websockets pandas"
   ]
  },
  {
   "cell_type": "code",
   "execution_count": 3,
   "id": "4b754295-6766-4a40-8f0f-b266a071c8f1",
   "metadata": {},
   "outputs": [],
   "source": [
    "import asyncio\n",
    "import websockets\n",
    "import json\n",
    "import pandas as pd\n",
    "import datetime\n",
    "import os"
   ]
  },
  {
   "cell_type": "code",
   "execution_count": 4,
   "id": "fd494e91-f397-493d-bc47-7ca4776c851d",
   "metadata": {},
   "outputs": [],
   "source": [
    "buffer = []\n",
    "\n",
    "async def binanceDepthCollector():\n",
    "    dep_url = f\"wss://stream.binance.com:9443/ws/btcusdt@depth10@100ms\"\n",
    "    async with websockets.connect(dep_url) as websocket:\n",
    "        print('Connected')\n",
    "        while True:\n",
    "            try:\n",
    "                info = await websocket.recv()\n",
    "                #print('start listenning') #测一下\n",
    "                data = json.loads(info)\n",
    "                now = datetime.datetime.now()\n",
    "                timestamp = now.strftime('%Y-%m-%d %H:%M:%S.%f')\n",
    "\n",
    "                rows = []#存储当前访问的depth\n",
    "\n",
    "                #print(data)#测一下读取到的数据格式\n",
    "\n",
    "                for i, (bid,ask) in enumerate(zip(data['bids'],data['asks'])):\n",
    "                    price1, qty1 = bid\n",
    "                    price2, qty2 = ask\n",
    "                    rows.append([timestamp,data['lastUpdateId'],[float(price1),float(qty1)],[float(price2),float(qty2)],i+1])\n",
    "\n",
    "                buffer.extend(rows)#准备该次访问写入的数据\n",
    "                \n",
    "                df = pd.DataFrame(buffer, columns = ['timestamp','lastUpdateId','bids','asks','level'])\n",
    "                filename = \"depth10_btcusdt_live.csv\"\n",
    "                header_adj = not os.path.exists(filename)\n",
    "                df.to_csv(filename, mode = 'a', header = header_adj, index = False)\n",
    "                #print('file saved')\n",
    "\n",
    "                buffer.clear()#清空缓存\n",
    "\n",
    "            except Exception as e:\n",
    "                print(f\"[Error] {e}\")\n",
    "                await asyncio.sleep(5)  "
   ]
  },
  {
   "cell_type": "code",
   "execution_count": 5,
   "id": "b416ddfc-b2e7-40af-b217-f43c1a2a8ba9",
   "metadata": {},
   "outputs": [
    {
     "name": "stdout",
     "output_type": "stream",
     "text": [
      "Connected\n"
     ]
    },
    {
     "ename": "CancelledError",
     "evalue": "",
     "output_type": "error",
     "traceback": [
      "\u001b[1;31m---------------------------------------------------------------------------\u001b[0m",
      "\u001b[1;31mCancelledError\u001b[0m                            Traceback (most recent call last)",
      "Cell \u001b[1;32mIn[5], line 2\u001b[0m\n\u001b[0;32m      1\u001b[0m buffer\u001b[38;5;241m.\u001b[39mclear()\u001b[38;5;66;03m#清空缓存\u001b[39;00m\n\u001b[1;32m----> 2\u001b[0m \u001b[38;5;28;01mawait\u001b[39;00m binanceDepthCollector()\n",
      "Cell \u001b[1;32mIn[4], line 9\u001b[0m, in \u001b[0;36mbinanceDepthCollector\u001b[1;34m()\u001b[0m\n\u001b[0;32m      7\u001b[0m \u001b[38;5;28;01mwhile\u001b[39;00m \u001b[38;5;28;01mTrue\u001b[39;00m:\n\u001b[0;32m      8\u001b[0m     \u001b[38;5;28;01mtry\u001b[39;00m:\n\u001b[1;32m----> 9\u001b[0m         info \u001b[38;5;241m=\u001b[39m \u001b[38;5;28;01mawait\u001b[39;00m websocket\u001b[38;5;241m.\u001b[39mrecv()\n\u001b[0;32m     10\u001b[0m         \u001b[38;5;66;03m#print('start listenning') #测一下\u001b[39;00m\n\u001b[0;32m     11\u001b[0m         data \u001b[38;5;241m=\u001b[39m json\u001b[38;5;241m.\u001b[39mloads(info)\n",
      "File \u001b[1;32mC:\\anaconda\\Lib\\site-packages\\websockets\\asyncio\\connection.py:303\u001b[0m, in \u001b[0;36mConnection.recv\u001b[1;34m(self, decode)\u001b[0m\n\u001b[0;32m    256\u001b[0m \u001b[38;5;250m\u001b[39m\u001b[38;5;124;03m\"\"\"\u001b[39;00m\n\u001b[0;32m    257\u001b[0m \u001b[38;5;124;03mReceive the next message.\u001b[39;00m\n\u001b[0;32m    258\u001b[0m \n\u001b[1;32m   (...)\u001b[0m\n\u001b[0;32m    300\u001b[0m \n\u001b[0;32m    301\u001b[0m \u001b[38;5;124;03m\"\"\"\u001b[39;00m\n\u001b[0;32m    302\u001b[0m \u001b[38;5;28;01mtry\u001b[39;00m:\n\u001b[1;32m--> 303\u001b[0m     \u001b[38;5;28;01mreturn\u001b[39;00m \u001b[38;5;28;01mawait\u001b[39;00m \u001b[38;5;28mself\u001b[39m\u001b[38;5;241m.\u001b[39mrecv_messages\u001b[38;5;241m.\u001b[39mget(decode)\n\u001b[0;32m    304\u001b[0m \u001b[38;5;28;01mexcept\u001b[39;00m \u001b[38;5;167;01mEOFError\u001b[39;00m:\n\u001b[0;32m    305\u001b[0m     \u001b[38;5;28;01mpass\u001b[39;00m\n",
      "File \u001b[1;32mC:\\anaconda\\Lib\\site-packages\\websockets\\asyncio\\messages.py:159\u001b[0m, in \u001b[0;36mAssembler.get\u001b[1;34m(self, decode)\u001b[0m\n\u001b[0;32m    154\u001b[0m \u001b[38;5;66;03m# Locking with get_in_progress prevents concurrent execution\u001b[39;00m\n\u001b[0;32m    155\u001b[0m \u001b[38;5;66;03m# until get() fetches a complete message or is canceled.\u001b[39;00m\n\u001b[0;32m    157\u001b[0m \u001b[38;5;28;01mtry\u001b[39;00m:\n\u001b[0;32m    158\u001b[0m     \u001b[38;5;66;03m# First frame\u001b[39;00m\n\u001b[1;32m--> 159\u001b[0m     frame \u001b[38;5;241m=\u001b[39m \u001b[38;5;28;01mawait\u001b[39;00m \u001b[38;5;28mself\u001b[39m\u001b[38;5;241m.\u001b[39mframes\u001b[38;5;241m.\u001b[39mget(\u001b[38;5;129;01mnot\u001b[39;00m \u001b[38;5;28mself\u001b[39m\u001b[38;5;241m.\u001b[39mclosed)\n\u001b[0;32m    160\u001b[0m     \u001b[38;5;28mself\u001b[39m\u001b[38;5;241m.\u001b[39mmaybe_resume()\n\u001b[0;32m    161\u001b[0m     \u001b[38;5;28;01massert\u001b[39;00m frame\u001b[38;5;241m.\u001b[39mopcode \u001b[38;5;129;01mis\u001b[39;00m OP_TEXT \u001b[38;5;129;01mor\u001b[39;00m frame\u001b[38;5;241m.\u001b[39mopcode \u001b[38;5;129;01mis\u001b[39;00m OP_BINARY\n",
      "File \u001b[1;32mC:\\anaconda\\Lib\\site-packages\\websockets\\asyncio\\messages.py:51\u001b[0m, in \u001b[0;36mSimpleQueue.get\u001b[1;34m(self, block)\u001b[0m\n\u001b[0;32m     49\u001b[0m \u001b[38;5;28mself\u001b[39m\u001b[38;5;241m.\u001b[39mget_waiter \u001b[38;5;241m=\u001b[39m \u001b[38;5;28mself\u001b[39m\u001b[38;5;241m.\u001b[39mloop\u001b[38;5;241m.\u001b[39mcreate_future()\n\u001b[0;32m     50\u001b[0m \u001b[38;5;28;01mtry\u001b[39;00m:\n\u001b[1;32m---> 51\u001b[0m     \u001b[38;5;28;01mawait\u001b[39;00m \u001b[38;5;28mself\u001b[39m\u001b[38;5;241m.\u001b[39mget_waiter\n\u001b[0;32m     52\u001b[0m \u001b[38;5;28;01mfinally\u001b[39;00m:\n\u001b[0;32m     53\u001b[0m     \u001b[38;5;28mself\u001b[39m\u001b[38;5;241m.\u001b[39mget_waiter\u001b[38;5;241m.\u001b[39mcancel()\n",
      "\u001b[1;31mCancelledError\u001b[0m: "
     ]
    }
   ],
   "source": [
    "buffer.clear()#清空缓存\n",
    "await binanceDepthCollector()"
   ]
  },
  {
   "cell_type": "code",
   "execution_count": null,
   "id": "bc4c1f09-e7ee-4448-893e-cbf1f20060ec",
   "metadata": {},
   "outputs": [],
   "source": [
    "await websocket.close()"
   ]
  },
  {
   "cell_type": "code",
   "execution_count": null,
   "id": "60fb8ffb-0ac1-4475-bd30-ab2aebf241b4",
   "metadata": {},
   "outputs": [],
   "source": []
  }
 ],
 "metadata": {
  "kernelspec": {
   "display_name": "Python [conda env:base] *",
   "language": "python",
   "name": "conda-base-py"
  },
  "language_info": {
   "codemirror_mode": {
    "name": "ipython",
    "version": 3
   },
   "file_extension": ".py",
   "mimetype": "text/x-python",
   "name": "python",
   "nbconvert_exporter": "python",
   "pygments_lexer": "ipython3",
   "version": "3.13.5"
  },
  "panel-cell-order": [
   "9dc36abc-adb1-4be7-9dec-ea3d4275dd56"
  ]
 },
 "nbformat": 4,
 "nbformat_minor": 5
}
